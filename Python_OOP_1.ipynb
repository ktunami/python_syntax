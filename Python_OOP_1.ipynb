{
 "cells": [
  {
   "cell_type": "markdown",
   "metadata": {},
   "source": [
    "# 基本语法"
   ]
  },
  {
   "cell_type": "markdown",
   "metadata": {},
   "source": [
    "### 类和对象基本语法"
   ]
  },
  {
   "cell_type": "code",
   "execution_count": 1,
   "metadata": {},
   "outputs": [
    {
     "name": "stdout",
     "output_type": "stream",
     "text": [
      "MyCls\n",
      "<class '__main__.MyCls'>\n",
      "MyCls\n",
      "MyCls\n"
     ]
    }
   ],
   "source": [
    "#定义函数\n",
    "def func():\n",
    "    pass\n",
    "\n",
    "#定义类\n",
    "class MyCls:\n",
    "    pass\n",
    "\n",
    "#实例化一个对象\n",
    "a = MyCls()\n",
    "\n",
    "#类名字符串\n",
    "print(MyCls.__name__) \n",
    "# print(a.__name__)   # 对象里没有这个属性\n",
    "print(a.__class__)    # 这样指向原来的类\n",
    "print(a.__class__.__name__)   # 然后获得类名\n",
    "\n",
    "#类也可以赋值，MyCls其实是一个变量\n",
    "b = MyCls\n",
    "print(b.__name__) "
   ]
  },
  {
   "cell_type": "markdown",
   "metadata": {},
   "source": [
    "### 关于变量和属性"
   ]
  },
  {
   "cell_type": "code",
   "execution_count": 2,
   "metadata": {},
   "outputs": [],
   "source": [
    "num = 5  # 内存中开辟一个地方放5，并把索引给num"
   ]
  },
  {
   "cell_type": "markdown",
   "metadata": {},
   "source": [
    " 属性分为类属性和对象属性两种，接下来讲对象属性  \n",
    " \n",
    " 1. 增加属性  \n",
    "    a. 直接加：对象.属性 = 值  \n",
    "    b. 构造函数__ init __方法"
   ]
  },
  {
   "cell_type": "code",
   "execution_count": 3,
   "metadata": {},
   "outputs": [
    {
     "name": "stdout",
     "output_type": "stream",
     "text": [
      "{'attr1': 1, 'attr2': 'hello'}\n"
     ]
    }
   ],
   "source": [
    "# 增加属性 a\n",
    "obj = MyCls()\n",
    "obj.attr1 = 1\n",
    "obj.attr2 = \"hello\"\n",
    "print(obj.__dict__)  # 把对象属性都放一字典里"
   ]
  },
  {
   "cell_type": "code",
   "execution_count": null,
   "metadata": {},
   "outputs": [],
   "source": []
  }
 ],
 "metadata": {
  "kernelspec": {
   "display_name": "Python 3",
   "language": "python",
   "name": "python3"
  },
  "language_info": {
   "codemirror_mode": {
    "name": "ipython",
    "version": 3
   },
   "file_extension": ".py",
   "mimetype": "text/x-python",
   "name": "python",
   "nbconvert_exporter": "python",
   "pygments_lexer": "ipython3",
   "version": "3.8.5"
  }
 },
 "nbformat": 4,
 "nbformat_minor": 4
}
