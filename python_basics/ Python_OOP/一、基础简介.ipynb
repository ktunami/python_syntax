{
 "cells": [
  {
   "cell_type": "markdown",
   "metadata": {},
   "source": [
    "# 一. 基础简介\n",
    "###  1. 构造函数和析构函数\n",
    "###  2. 类变量和对象变量\n",
    "###  3. 对象方法、类方法、静态方法\n",
    "###  4. __ str __ ( ) 与 __ repr__( )\n",
    "###  5. 运算符重载\n",
    "---\n",
    "---\n",
    "\n",
    "##  1. 构造函数和析构函数\n",
    "- self：指对象本身 \n",
    "- __ init __ ( ) 构造函数：在对象被实例化时调用，最好在 __ init__( )中初始化全部对象属性\n",
    "- __ del__() 析构函数：在对象被销毁前调用\n",
    "\n",
    "##  2. 类变量和对象变量\n",
    "\n",
    " ### A) 类变量和对象变量的简介\n",
    "\n",
    "- 类变量：被该类的所有对象共享，当某个对象对类变量做了改动时，这个改动会反映到所有其他的实例上。 \n",
    "- 对象变量：每个对象有自己对这个域的一份拷贝，即它们不是共享的 \n",
    "- 删除属性 del ob.some_attr （也能删除类属性）"
   ]
  },
  {
   "cell_type": "code",
   "execution_count": 40,
   "metadata": {},
   "outputs": [
    {
     "name": "stdout",
     "output_type": "stream",
     "text": [
      "n is deleted!\n",
      "1.访问对象属性： m\n",
      "2.访问类属性： 0\n",
      "3.访问类属性： 0\n",
      "m is deleted!\n"
     ]
    }
   ],
   "source": [
    "class Student:   \n",
    "    \"\"\"此乃Student类\"\"\"              # 类这个注释存储在 __doc__中\n",
    "    count = 0                       # 类变量\n",
    "    \n",
    "    def __init__(self, name):\n",
    "        self.name = name            # 对象变量 \n",
    "        Student.count += 1          # 类变量的访问\n",
    "        \n",
    "    def __del__(self):\n",
    "        print('{0} is deleted!'.format(self.name))\n",
    "        Student.count -= 1\n",
    "\n",
    "        \n",
    "stu = Student('m') \n",
    "                                        # 另一种添加变量的方法\n",
    "Student.teacher = 'Kate'                # 类变量\n",
    "stu.age = 18                            # 对象变量 \n",
    "\n",
    "\n",
    "\n",
    "print('1.访问对象属性：' ,stu.name)       # 对象变量的访问    \n",
    "print('2.访问类属性：' ,stu.count)        # 类变量的访问\n",
    "print('3.访问类属性：' ,Student.count)\n",
    "\n",
    "stu = 'other'                           # 该Student引用计数器清0，被删除，析构函数被调用"
   ]
  },
  {
   "cell_type": "markdown",
   "metadata": {},
   "source": [
    "### B) 部分内置方法和属性\n",
    "- __ doc__ ：类的注释\n",
    "- __ name__：类名称（只能类调用）\n",
    "- __ module__：类定义所在的模块\n",
    "- __ class__：返回对象从属的类\n",
    "- __ dict__：返回类或对象的属性字典（与vars()函数的作用相同）\n",
    "- __ bases__：返回该类的父类们 (必须是类调用)"
   ]
  },
  {
   "cell_type": "code",
   "execution_count": 43,
   "metadata": {},
   "outputs": [
    {
     "name": "stdout",
     "output_type": "stream",
     "text": [
      "n is deleted!\n",
      "1.  此乃Student类\n",
      "2.  Student\n",
      "3.  <class '__main__.Student'>\n",
      "4.  Student \n",
      "\n",
      "5.  {'name': 'n', 'age': 20}\n",
      "6.  {'name': 'n', 'age': 20}\n",
      "7.  {'__module__': '__main__', '__doc__': '此乃Student类', 'count': 0, '__init__': <function Student.__init__ at 0x7faf224b5790>, '__del__': <function Student.__del__ at 0x7faf224b5430>, '__dict__': <attribute '__dict__' of 'Student' objects>, '__weakref__': <attribute '__weakref__' of 'Student' objects>, 'teacher': 'Kate'}\n",
      "8.  {'__module__': '__main__', '__doc__': '此乃Student类', 'count': 0, '__init__': <function Student.__init__ at 0x7faf224b5790>, '__del__': <function Student.__del__ at 0x7faf224b5430>, '__dict__': <attribute '__dict__' of 'Student' objects>, '__weakref__': <attribute '__weakref__' of 'Student' objects>, 'teacher': 'Kate'} \n",
      "\n",
      "9.  (<class 'object'>,)\n",
      "10.  __main__\n"
     ]
    }
   ],
   "source": [
    "stu = Student('n')\n",
    "stu.age = 20                        \n",
    "\n",
    "print('1. ', stu.__doc__)                     #对象和类都可以调用，类的注释\n",
    "print('2. ', Student.__name__)                #只能是类调用，类名称\n",
    "#print('2. ', stu.__name__,'\\n')              #报错\n",
    "print('3. ', stu.__class__)                   #找出对象相应的类\n",
    "print('4. ', stu.__class__.__name__,'\\n')     #找出对象相应的类的基础上\n",
    "\n",
    "print('5. ', stu.__dict__)               #打印对象的属性字典\n",
    "print('6. ' ,vars(stu))\n",
    "print('7. ', Student.__dict__)           #打印类的属性字典\n",
    "print('8. ' ,vars(Student), '\\n')        #vars和__dict__作用相同      \n",
    "\n",
    "print('9. ', Student.__bases__)          #返回该类的父类们 (必须是类调用)\n",
    "print('10. ', Student.__module__)"
   ]
  },
  {
   "cell_type": "code",
   "execution_count": 14,
   "metadata": {},
   "outputs": [
    {
     "name": "stdout",
     "output_type": "stream",
     "text": [
      "打印 Student 的属性:\n",
      "__module__  :  __main__\n",
      "__doc__  :  此乃Student类\n",
      "count  :  2\n",
      "__init__  :  <function Student.__init__ at 0x7faf223dc160>\n",
      "__del__  :  <function Student.__del__ at 0x7faf223dc1f0>\n",
      "__dict__  :  {'__module__': '__main__', '__doc__': '此乃Student类', 'count': 2, '__init__': <function Student.__init__ at 0x7faf223dc160>, '__del__': <function Student.__del__ at 0x7faf223dc1f0>, '__dict__': <attribute '__dict__' of 'Student' objects>, '__weakref__': <attribute '__weakref__' of 'Student' objects>, 'teacher': 'Kate'}\n",
      "__weakref__  :  <attribute '__weakref__' of 'Student' objects>\n",
      "teacher  :  Kate\n"
     ]
    }
   ],
   "source": [
    "def print_attributes(title, obj):                   # 该函数将对象属性打印一遍\n",
    "    print('打印',title,'的属性:')\n",
    "    for attr in vars(obj):\n",
    "        print(attr,' : ', getattr(obj, attr))       # getattr(ob, attr_string) 获取属性值\n",
    "    \n",
    "print_attributes('Student',Student)"
   ]
  },
  {
   "cell_type": "markdown",
   "metadata": {},
   "source": [
    "### C) 关于属性的trick"
   ]
  },
  {
   "cell_type": "code",
   "execution_count": 17,
   "metadata": {},
   "outputs": [
    {
     "name": "stdout",
     "output_type": "stream",
     "text": [
      "a is deleted!\n",
      "b is deleted!\n",
      "Kate\n",
      "Kate\n",
      "La\n",
      "Kate \n",
      "\n",
      "打印 stu1 的属性:\n",
      "name  :  a\n",
      "teacher  :  La\n",
      "打印 stu2 的属性:\n",
      "name  :  b\n",
      "Kate\n"
     ]
    }
   ],
   "source": [
    "stu1 = Student('a') \n",
    "stu2 = Student('b')  \n",
    "print(stu1.teacher)                    #如果对象里没有这个属性，那么会返回类中这个属性\n",
    "print(stu2.teacher)\n",
    "\n",
    "stu1.teacher = 'La'                    #此时相当于添加对象属性\n",
    "print(stu1.teacher)                    #该属性在对象中存在了，故直接返回\n",
    "print(stu2.teacher,'\\n')\n",
    "print_attributes('stu1', stu1)\n",
    "print_attributes('stu2', stu2)\n",
    "print(Student.teacher)                 #类属性没有变化 "
   ]
  },
  {
   "cell_type": "markdown",
   "metadata": {},
   "source": [
    "### D) __ slots __ 用来限制某个类能添加的对象属性\n",
    "对象的__ dict__被删除"
   ]
  },
  {
   "cell_type": "code",
   "execution_count": 25,
   "metadata": {},
   "outputs": [
    {
     "name": "stdout",
     "output_type": "stream",
     "text": [
      "{'__module__': '__main__', '__slots__': ['a', 'b'], 'a': <member 'a' of 'MyCls' objects>, 'b': <member 'b' of 'MyCls' objects>, '__doc__': None}\n"
     ]
    }
   ],
   "source": [
    "class MyCls:\n",
    "    __slots__ = [\"a\", \"b\"]        # 将对象属性限制为a和b\n",
    "    \n",
    "ob1 = MyCls()\n",
    "ob1.b = 5\n",
    "# ob1.c = 5                         # 这个不能被添加\n",
    "print(MyCls.__dict__)\n",
    "# print(ob1.__dict__)                # 'MyCls4' object has no attribute '__dict__'"
   ]
  },
  {
   "cell_type": "markdown",
   "metadata": {},
   "source": [
    "##  3. 对象方法、类方法、静态方法\n",
    "\n",
    "对象方法：\n",
    "- 对象自己的方法\n",
    "- 第一个参数是self\n",
    "\n",
    "类方法：\n",
    "- 类的方法，所有对象公共的方法\n",
    "- 第一个参数是cls\n",
    "\n",
    "静态方法\n",
    "- 和类、对象没什么关系\n"
   ]
  },
  {
   "cell_type": "code",
   "execution_count": 29,
   "metadata": {},
   "outputs": [
    {
     "name": "stdout",
     "output_type": "stream",
     "text": [
      "实例方法:  <__main__.MyCls2 object at 0x7faf223d7ca0>\n",
      "类方法:  <class '__main__.MyCls2'>\n",
      "静态方法\n",
      "{'__module__': '__main__', 'func1': <function MyCls2.func1 at 0x7faf224afb80>, 'func2': <classmethod object at 0x7faf223d7040>, 'func3': <staticmethod object at 0x7faf223d7b80>, '__dict__': <attribute '__dict__' of 'MyCls2' objects>, '__weakref__': <attribute '__weakref__' of 'MyCls2' objects>, '__doc__': None}\n",
      "{}\n"
     ]
    }
   ],
   "source": [
    "class MyCls2:\n",
    "    def func1(self):\n",
    "        print(\"实例方法: \", self)\n",
    "        \n",
    "    @classmethod\n",
    "    def func2(cls):\n",
    "        print(\"类方法: \", cls)\n",
    "        \n",
    "    @staticmethod\n",
    "    def func3():\n",
    "        print(\"静态方法\")\n",
    "\n",
    "ob = MyCls2()\n",
    "ob.func1()\n",
    "MyCls2.func2()\n",
    "MyCls2.func3()\n",
    "\n",
    "print(MyCls2.__dict__)    # 所有方法都存在于类的__dict__中\n",
    "print(ob.__dict__)"
   ]
  },
  {
   "cell_type": "markdown",
   "metadata": {},
   "source": [
    "## 4. __ str __ ( ) 与 __ repr__( )\n",
    "__ str__的功能与用法：\n",
    "  - 1.__ str__功能：将实例对象按照自定义的格式用字符串的形式显示出来，提高可读性。\n",
    "  - 2.实例化的对象在打印或时会默认调用__str__方法，如果类没有重写这个方法，默认调用父类object的__str__方法。\n",
    "  - 3.object的__str__方法内部是pass，所以打印的是内存地址。如果当前类重写了这个方法，会自动调用重写后的方法。\n",
    "\n",
    "__ repr__的功能与用法：\n",
    "  - 1.__ repr__如果用IDE软件操作，功能与__str__完全一样，都是实例可视化显示\n",
    "  - 2.开发中如果用户需要可视化实例内容，只需要重写__str__或者__repr__方法之一即可。如果两个都有的话，默认调用__str__.\n",
    "  - 3.两者的区别就是使用命令行操作：\n",
    "      - 3.1__str__重写后，如果直接实例stu回车的话话，显示的是stu实例在内存中的地址，跟print(stu)不一样。\n",
    "      - 3.2__repr__重写后，如果直接实例stu回车的话，效果跟使用print(stu)一样，返回内容，不是内存地址。 \n",
    "\n",
    "（摘自：https://blog.csdn.net/qq_26442553/article/details/82465335 ）"
   ]
  },
  {
   "cell_type": "code",
   "execution_count": 35,
   "metadata": {},
   "outputs": [
    {
     "name": "stdout",
     "output_type": "stream",
     "text": [
      "Num is 2\n",
      "Num is 1\n"
     ]
    }
   ],
   "source": [
    "class Num:\n",
    "    \"\"\"Num class\n",
    "    \"\"\"\n",
    "    \n",
    "    def __init__(self, value):\n",
    "        self.value = value\n",
    "        \n",
    "    def __str__(self):                       # str(ob) 会调用\n",
    "        return 'Num is '+ str(self.value)\n",
    "    \n",
    "    def __repr__(self):\n",
    "        return \"Value of num is\" + str(self.value)\n",
    "    \n",
    "    \n",
    "a = Num(1)\n",
    "b = Num(2)\n",
    "print(str(b))                           # 调用 __str__()\n",
    "print(a)"
   ]
  },
  {
   "cell_type": "markdown",
   "metadata": {},
   "source": [
    "## 5. 运算符重载\n",
    "\n",
    "各种神奇的魔术方法见： https://pycoders-weekly-chinese.readthedocs.io/en/latest/issue6/a-guide-to-pythons-magic-methods.html#id23"
   ]
  },
  {
   "cell_type": "code",
   "execution_count": 6,
   "metadata": {},
   "outputs": [
    {
     "name": "stdout",
     "output_type": "stream",
     "text": [
      "3\n",
      "10\n"
     ]
    }
   ],
   "source": [
    "class Num:\n",
    "    \n",
    "    def __init__(self, value):\n",
    "        self.value = value\n",
    "    \n",
    "    def __add__(self, ob):                   #重载self在左侧时的加法\n",
    "        if isinstance(ob, int):\n",
    "            val = self.value + ob\n",
    "        else:\n",
    "            val = self.value + ob.value\n",
    "        return Num(val)\n",
    "    \n",
    "    def __radd__(self, ob):                  #重载self在右侧时的加法\n",
    "        return self.__add__(ob)\n",
    "    \n",
    "    \n",
    "a = Num(1)\n",
    "b = Num(2)\n",
    "\n",
    "c = a + b                               # 调用 __add__()\n",
    "print(c.value)\n",
    "\n",
    "d = a + 3                               # 调用 __add__()\n",
    "\n",
    "e = 3 + a                               # 调用 __radd__()\n",
    "\n",
    "\n",
    "sum_all = sum([a, b, c, d])             # 如果想用sum这个函数 （下面二者缺一不可）\n",
    "print(sum_all.value)                    #   1. 必须同时重载__add__()与__radd__()\n",
    "                                        #   2. 必须包含 对象和内置整数“混加”的情况\n",
    "                                        # 否则会报错： unsupported operand type(s) for +: 'int' and 'Num' "
   ]
  },
  {
   "cell_type": "code",
   "execution_count": null,
   "metadata": {},
   "outputs": [],
   "source": []
  }
 ],
 "metadata": {
  "kernelspec": {
   "display_name": "Python 3",
   "language": "python",
   "name": "python3"
  },
  "language_info": {
   "codemirror_mode": {
    "name": "ipython",
    "version": 3
   },
   "file_extension": ".py",
   "mimetype": "text/x-python",
   "name": "python",
   "nbconvert_exporter": "python",
   "pygments_lexer": "ipython3",
   "version": "3.8.5"
  }
 },
 "nbformat": 4,
 "nbformat_minor": 4
}
