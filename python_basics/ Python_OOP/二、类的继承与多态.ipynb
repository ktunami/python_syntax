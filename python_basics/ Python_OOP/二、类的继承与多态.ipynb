{
 "cells": [
  {
   "cell_type": "markdown",
   "metadata": {},
   "source": [
    "# 二、类的继承与多态\n",
    "\n",
    "### 1. 继承和多态\n",
    "### 2. 抽象和接口\n",
    "### 3. 类属性的访问权限\n",
    "### 4. 用property实现属性的读写\n",
    "---\n",
    "---\n",
    "## 1. 继承和多态\n",
    "### A) 所有类的模版都是type, 所有类最终都继承于object"
   ]
  },
  {
   "cell_type": "code",
   "execution_count": 1,
   "metadata": {},
   "outputs": [
    {
     "name": "stdout",
     "output_type": "stream",
     "text": [
      "<class 'type'>\n"
     ]
    }
   ],
   "source": [
    "class A:\n",
    "    pass\n",
    "\n",
    "print(A.__class__)        # 所有类的模版都是type"
   ]
  },
  {
   "cell_type": "code",
   "execution_count": 2,
   "metadata": {},
   "outputs": [
    {
     "name": "stdout",
     "output_type": "stream",
     "text": [
      "<class 'type'>\n"
     ]
    }
   ],
   "source": [
    "print(type.__class__)  "
   ]
  },
  {
   "cell_type": "code",
   "execution_count": 3,
   "metadata": {},
   "outputs": [
    {
     "name": "stdout",
     "output_type": "stream",
     "text": [
      "(<class 'object'>,)\n"
     ]
    }
   ],
   "source": [
    "print(A.__bases__)        # object是最大基类"
   ]
  },
  {
   "cell_type": "code",
   "execution_count": 4,
   "metadata": {},
   "outputs": [
    {
     "name": "stdout",
     "output_type": "stream",
     "text": [
      "(<class 'object'>,)\n"
     ]
    }
   ],
   "source": [
    "print(type.__bases__)     "
   ]
  },
  {
   "cell_type": "markdown",
   "metadata": {},
   "source": [
    "### B) 继承的基本语法\n",
    "super(child_class, child_object).parent_attribute(arg)  \n",
    "super( )里面的参数不写也可以"
   ]
  },
  {
   "cell_type": "code",
   "execution_count": 20,
   "metadata": {},
   "outputs": [
    {
     "name": "stdout",
     "output_type": "stream",
     "text": [
      "(<class '__main__.Father'>,)\n",
      "son_name\n",
      "Father eat\n",
      "38\n",
      "{'age': 38, 'name': 'son_name', 'ag': 13}\n"
     ]
    }
   ],
   "source": [
    "class Father(object):\n",
    "    eat = 'Father eat'\n",
    "    def __init__(self, name, age):\n",
    "        self.age = age\n",
    "        self.name = name\n",
    "\n",
    "class Son(Father):\n",
    "    def __init__(self, name, age):\n",
    "        super().__init__('father_name', age + 25)    #调用父类的init, 必须先写\n",
    "                                                     #如果用Father.__init__则没有实例会被绑定\n",
    "        self.name = name\n",
    "        self.ag = age\n",
    "        \n",
    "\n",
    "print(Son.__bases__)\n",
    "\n",
    "s = Son('son_name',13)\n",
    "print(s.name)\n",
    "print(s.eat)\n",
    "print(s.age)\n",
    "\n",
    "print(s.__dict__)                                   # name是同名属性，同名的name属性被覆盖"
   ]
  },
  {
   "cell_type": "code",
   "execution_count": 28,
   "metadata": {},
   "outputs": [
    {
     "name": "stdout",
     "output_type": "stream",
     "text": [
      "init D\n",
      "init B\n",
      "init A\n"
     ]
    }
   ],
   "source": [
    "class D(object):\n",
    "    def __init__(self):\n",
    "        print(\"init D\")\n",
    "\n",
    "class B(D):\n",
    "    def __init__(self):\n",
    "        super(B, self).__init__()\n",
    "        print(\"init B\")\n",
    "\n",
    "class A(B):\n",
    "    def __init__(self):\n",
    "        super(A, self).__init__()\n",
    "        print(\"init A\")\n",
    "\n",
    "a = A()"
   ]
  },
  {
   "cell_type": "markdown",
   "metadata": {},
   "source": [
    "### C)多继承"
   ]
  },
  {
   "cell_type": "code",
   "execution_count": 30,
   "metadata": {},
   "outputs": [
    {
     "name": "stdout",
     "output_type": "stream",
     "text": [
      "(<class '__main__.A'>, <class '__main__.B'>, <class '__main__.C'>, <class '__main__.D'>, <class 'object'>)\n",
      "init D\n",
      "init C\n",
      "init B\n",
      "init A\n"
     ]
    }
   ],
   "source": [
    "import inspect\n",
    "\n",
    "\"\"\" 这个继承关系是这样的：\n",
    "             D\n",
    "            / \\\n",
    "           B   C\n",
    "            \\ /\n",
    "             A\n",
    "\"\"\"\n",
    "\n",
    "class D(object):\n",
    "    def __init__(self):\n",
    "        print(\"init D\")\n",
    "\n",
    "class B(D):\n",
    "    def __init__(self):\n",
    "        super(B, self).__init__()\n",
    "        print(\"init B\")\n",
    "\n",
    "class C(D):\n",
    "    def __init__(self):\n",
    "        super(C, self).__init__()\n",
    "        print(\"init C\")\n",
    "\n",
    "class A(B,C):\n",
    "    def __init__(self):\n",
    "        super(A, self).__init__()\n",
    "        print(\"init A\")\n",
    "\n",
    "print(inspect.getmro(A))\n",
    "\n",
    "a = A()"
   ]
  },
  {
   "cell_type": "markdown",
   "metadata": {},
   "source": [
    "### D)覆盖和重写"
   ]
  },
  {
   "cell_type": "code",
   "execution_count": 55,
   "metadata": {},
   "outputs": [
    {
     "name": "stdout",
     "output_type": "stream",
     "text": [
      "以下调用子类test\n",
      "sub.a=2 输出子类的a\n",
      "base.a=2 输出父类的a\n",
      "调用基类的a 1\n",
      "\n",
      "sub:  5\n",
      "base:  5\n",
      "base: <__main__.SubClass object at 0x7ffec12b8d30>\n",
      "sub:  <__main__.SubClass object at 0x7ffec12b8d30>\n"
     ]
    }
   ],
   "source": [
    "class BaseClass():\n",
    "    a = 1\n",
    "    \n",
    "    def __init__(self, num):\n",
    "        self.b = num\n",
    "    \n",
    "    @classmethod\n",
    "    def test(cls):\n",
    "        print(\"base.a=%d 输出父类的a\"%cls.a)\n",
    "        \n",
    "    def get_b(self):\n",
    "        return self.b\n",
    "    \n",
    "    def say_hi(self):\n",
    "        print('base:', self)\n",
    "    \n",
    " \n",
    "class SubClass(BaseClass):\n",
    "    a = 2\n",
    "    \n",
    "    def __init__(self, num):\n",
    "        super().__init__(num + 1)                  #这句没用，同名对象变量b会被下面那句重写\n",
    "        self.b = num\n",
    "    \n",
    "    @classmethod\n",
    "    def test(cls):\n",
    "        print('以下调用子类test')\n",
    "        print(\"sub.a=%d 输出子类的a\" % cls.a)    \n",
    "        super().test()                             #因为super()里面的参数都是子类，所以输出的实际是子类的a                               \n",
    "        print(\"调用基类的a %d\\n\" % super().a)        #只有这样输出的才是父类的a\n",
    "                                                   #类变量这样才可以，对象变量只会被重写\n",
    "    \n",
    "    def get_sub_b(self):\n",
    "        print(\"sub: \", self.b)\n",
    "        print(\"base: \", super().get_b())\n",
    "        \n",
    "    def say_hi(self):\n",
    "        super().say_hi()                          #这里虽然调用了父类的方法，但super传过去的self是子类\n",
    "        print('sub: ', self)\n",
    "        \n",
    " \n",
    "SubClass.test()      \n",
    "\n",
    "c = SubClass(5)\n",
    "c.get_sub_b()\n",
    "c.say_hi()                                        #只调用子类方法"
   ]
  },
  {
   "cell_type": "markdown",
   "metadata": {},
   "source": [
    "### E) 多态"
   ]
  },
  {
   "cell_type": "code",
   "execution_count": 69,
   "metadata": {},
   "outputs": [
    {
     "name": "stdout",
     "output_type": "stream",
     "text": [
      "I am a Person , my name is  p\n",
      "My age is: 10\n",
      "\n",
      "I am a Female , my name is  f\n",
      "My age is a secret, but I will tell you:  12\n",
      "\n",
      "I am a Male , my name is  m\n",
      "Ahaha, my age is 20 . And you\n",
      "\n"
     ]
    }
   ],
   "source": [
    "class Person(object):\n",
    "    def __init__(self, name, age):\n",
    "        self.age = age\n",
    "        self.name = name\n",
    "        \n",
    "    def say_hi(self):\n",
    "        print('I am a', self.__class__.__name__, ', my name is ', self.name)\n",
    "        \n",
    "    def tell_age(self):\n",
    "        print('My age is:', self.age)\n",
    "        \n",
    "\n",
    "class Female(Person):\n",
    "    def __init__(self, name, age):\n",
    "        super().__init__(name, age)\n",
    "\n",
    "    def tell_age(self):\n",
    "        print('My age is a secret, but I will tell you: ', self.age)\n",
    "        \n",
    "class Male(Person):\n",
    "    def __init__(self, name, age):\n",
    "        super().__init__(name, age)\n",
    "        \n",
    "    def tell_age(self):\n",
    "        print('Ahaha, my age is', self.age, '. And you')\n",
    "\n",
    "\n",
    "def say_something(ob):\n",
    "    ob.say_hi()\n",
    "    ob.tell_age()\n",
    "    print()\n",
    "        \n",
    "p = Person('p', 10)\n",
    "f = Female('f', 12)\n",
    "m = Male('m', 20)\n",
    "\n",
    "say_something(p)\n",
    "say_something(f)\n",
    "say_something(m)"
   ]
  },
  {
   "cell_type": "markdown",
   "metadata": {},
   "source": [
    "## 2. 抽象和接口\n",
    "\n",
    "抽象基类如下所示，metaclass=ABCMeta,不能被实例化"
   ]
  },
  {
   "cell_type": "code",
   "execution_count": 77,
   "metadata": {},
   "outputs": [
    {
     "name": "stdout",
     "output_type": "stream",
     "text": [
      "People run\n",
      "People eat\n",
      "Drink water\n"
     ]
    }
   ],
   "source": [
    "from abc import ABCMeta, abstractmethod\n",
    "\n",
    "class Action(metaclass=ABCMeta):    #每个abstractmethod都必须被实现\n",
    "    @abstractmethod\n",
    "    def run(self):\n",
    "        pass\n",
    "\n",
    "    @abstractmethod\n",
    "    def eat(self):\n",
    "        pass\n",
    "    \n",
    "    def drink(self):\n",
    "        print('Drink water')\n",
    "\n",
    "class People(Action):\n",
    "    def run(self):\n",
    "        print('People run')\n",
    "        \n",
    "    def eat(self):\n",
    "        print('People eat')\n",
    "        \n",
    "\n",
    "\n",
    "# a = Action()                    # Can't instantiate abstract class Action with abstract methods eat, run\n",
    "p = People()\n",
    "p.run()\n",
    "p.eat()\n",
    "p.drink()"
   ]
  },
  {
   "cell_type": "markdown",
   "metadata": {},
   "source": [
    "## 3. 类属性的访问权限"
   ]
  },
  {
   "cell_type": "code",
   "execution_count": 96,
   "metadata": {},
   "outputs": [
    {
     "name": "stdout",
     "output_type": "stream",
     "text": [
      "1\n",
      "1\n",
      "Child,  1\n",
      "{'__module__': '__main__', 'x': 0, '_x': 1, '_Father__x': 5, '__dict__': <attribute '__dict__' of 'Father' objects>, '__weakref__': <attribute '__weakref__' of 'Father' objects>, '__doc__': None}\n",
      "{'__module__': '__main__', 'func1': <function Child.func1 at 0x7ffec1814ca0>, 'func2': <function Child.func2 at 0x7ffec1814d30>, 'func3': <function Child.func3 at 0x7ffec1814940>, '__doc__': None}\n",
      "5\n"
     ]
    }
   ],
   "source": [
    "class Father:\n",
    "    x = 0\n",
    "    _x = 1\n",
    "    __x = 5\n",
    "    \n",
    "class Child(Father):\n",
    "    def func1(self):\n",
    "        print(\"Child, \", self._x)   \n",
    "        \n",
    "    def func2(self):\n",
    "        print(\"Child, \", self.__x)   \n",
    "        \n",
    "    def func3(self):\n",
    "        print(\"Child, \", super().__x)\n",
    "        \n",
    "f = Father()\n",
    "print(f._x)                         \n",
    "# print(f.__x)                         #'Father' object has no attribute '__x'\n",
    "\n",
    "s = Child()\n",
    "print(s._x)\n",
    "# print(s.__x)                         #'Child' object has no attribute '__x'\n",
    "\n",
    "s.func1()                              # 子类内可以访问 _x\n",
    "# s.func2()                            # 'Child' object has no attribute '_Child__x'\n",
    "# s.func3()                            # 'super' object has no attribute '_Child__x'\n",
    "\n",
    "print(Father.__dict__)                 # __x 变成了 _Father__x\n",
    "print(Child.__dict__) \n",
    "\n",
    "print(Father._Father__x)              # 改成这就ok了"
   ]
  },
  {
   "cell_type": "markdown",
   "metadata": {},
   "source": [
    "## 4.用property实现属性的读写\n",
    "\n",
    "### A)  方法1："
   ]
  },
  {
   "cell_type": "code",
   "execution_count": 98,
   "metadata": {},
   "outputs": [
    {
     "name": "stdout",
     "output_type": "stream",
     "text": [
      "set_age method\n",
      "get_age method\n",
      "18\n"
     ]
    }
   ],
   "source": [
    "class Person(object):\n",
    "    def __init__(self, v):\n",
    "        self.__age = v\n",
    "        \n",
    "    def get_age(self):\n",
    "        print(\"get_age method\")\n",
    "        return self.__age\n",
    "    \n",
    "    def set_age(self, val):\n",
    "        print(\"set_age method\")\n",
    "        self.__age = val\n",
    "        \n",
    "    the_age = property(get_age, set_age)   \n",
    "    #这个the_age是一个描述器，用的时候就好像一个属性一样，实际上会调用相应的方法\n",
    "    \n",
    "p = Person(0)\n",
    "p.the_age = 18\n",
    "print(p.the_age)"
   ]
  },
  {
   "cell_type": "markdown",
   "metadata": {},
   "source": [
    "### B) 方法2:\n",
    "\n",
    "@property装饰器就是负责把一个方法变成属性调用的：把一个getter方法变成属性，只需要加上@property就可以了，此时，@property本身又创建了另一个装饰器@score.setter，负责把一个setter方法变成属性赋值"
   ]
  },
  {
   "cell_type": "code",
   "execution_count": 105,
   "metadata": {},
   "outputs": [
    {
     "name": "stdout",
     "output_type": "stream",
     "text": [
      "haha 12\n",
      "heihei 18\n"
     ]
    }
   ],
   "source": [
    "class Person(object):\n",
    "    def __init__(self, name, age):\n",
    "        self.__name = name\n",
    "        self.__age = age\n",
    "    \n",
    "    @property\n",
    "    def age(self):\n",
    "        return self.__age\n",
    "    \n",
    "    @age.setter             #两个函数名和.setter那个必须相同       \n",
    "    def age(self, val):\n",
    "        self.__age = val\n",
    "    \n",
    "    @property\n",
    "    def name(self):\n",
    "        return self.__name\n",
    "    \n",
    "    @name.setter                    \n",
    "    def name(self, val):\n",
    "        self.__name = val\n",
    "        \n",
    "p = Person('haha',12)\n",
    "print(p.name, p.age)\n",
    "\n",
    "p.age = 18\n",
    "p.name = 'heihei'\n",
    "print(p.name, p.age)"
   ]
  },
  {
   "cell_type": "code",
   "execution_count": null,
   "metadata": {},
   "outputs": [],
   "source": []
  }
 ],
 "metadata": {
  "kernelspec": {
   "display_name": "Python 3",
   "language": "python",
   "name": "python3"
  },
  "language_info": {
   "codemirror_mode": {
    "name": "ipython",
    "version": 3
   },
   "file_extension": ".py",
   "mimetype": "text/x-python",
   "name": "python",
   "nbconvert_exporter": "python",
   "pygments_lexer": "ipython3",
   "version": "3.8.5"
  }
 },
 "nbformat": 4,
 "nbformat_minor": 4
}
