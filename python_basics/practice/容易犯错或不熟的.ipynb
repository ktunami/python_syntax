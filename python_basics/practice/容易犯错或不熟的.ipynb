{
 "cells": [
  {
   "cell_type": "code",
   "execution_count": 1,
   "metadata": {},
   "outputs": [
    {
     "data": {
      "text/plain": [
       "(3, 1)"
      ]
     },
     "execution_count": 1,
     "metadata": {},
     "output_type": "execute_result"
    }
   ],
   "source": [
    "divmod(10,3)                                      #### 1--divmod"
   ]
  },
  {
   "cell_type": "code",
   "execution_count": 2,
   "metadata": {},
   "outputs": [
    {
     "data": {
      "text/plain": [
       "['hello', 'hh']"
      ]
     },
     "execution_count": 2,
     "metadata": {},
     "output_type": "execute_result"
    }
   ],
   "source": [
    "string = \"hello hh\"\n",
    "li = string.split(\" \")\n",
    "li"
   ]
  },
  {
   "cell_type": "code",
   "execution_count": 3,
   "metadata": {},
   "outputs": [
    {
     "data": {
      "text/plain": [
       "'hello,hh'"
      ]
     },
     "execution_count": 3,
     "metadata": {},
     "output_type": "execute_result"
    }
   ],
   "source": [
    "','.join(li)                                      #### 2--join"
   ]
  },
  {
   "cell_type": "code",
   "execution_count": 4,
   "metadata": {},
   "outputs": [
    {
     "name": "stdout",
     "output_type": "stream",
     "text": [
      "No Python documentation found for 'join'.\n",
      "Use help() to get the interactive help utility.\n",
      "Use help(str) for help on the str class.\n",
      "\n"
     ]
    }
   ],
   "source": [
    "help('join')"
   ]
  },
  {
   "cell_type": "code",
   "execution_count": 5,
   "metadata": {},
   "outputs": [
    {
     "data": {
      "text/plain": [
       "[1, 3, 5, 7]"
      ]
     },
     "execution_count": 5,
     "metadata": {},
     "output_type": "execute_result"
    }
   ],
   "source": [
    "list(range(1,9,2))"
   ]
  },
  {
   "cell_type": "code",
   "execution_count": 2,
   "metadata": {},
   "outputs": [
    {
     "name": "stdout",
     "output_type": "stream",
     "text": [
      "['hello', 'you', 'is', 'a', 'cat']\n",
      "['hello', 'you', 'is', 'a', 'cat']\n",
      "140233711820544\n",
      "140233711820544\n"
     ]
    }
   ],
   "source": [
    "######列表复制                                                   ####  3--深浅拷贝\n",
    "string = \"hello you are a cat\"\n",
    "li = string.split(\" \")\n",
    "li2 = li                  #都指向同一个列表（这根本不是拷贝）\n",
    "li[2] = 'is'\n",
    "print(li)\n",
    "print(li2)\n",
    "print(id(li))\n",
    "print(id(li2))            #地址一样的"
   ]
  },
  {
   "cell_type": "code",
   "execution_count": 3,
   "metadata": {},
   "outputs": [
    {
     "name": "stdout",
     "output_type": "stream",
     "text": [
      "['hello', 'you', 'hehe', 'a', 'cat']\n",
      "['hello', 'you', 'is', 'a', 'cat']\n",
      "140233711820544\n",
      "140233712407680\n"
     ]
    }
   ],
   "source": [
    "## 解决办法是用  列表.copy()\n",
    "li3 = li.copy()           #这是浅拷贝\n",
    "li[2] = 'hehe'\n",
    "print(li)\n",
    "print(li3)\n",
    "print(id(li))\n",
    "print(id(li3))            #地址不一样"
   ]
  },
  {
   "cell_type": "code",
   "execution_count": 8,
   "metadata": {},
   "outputs": [
    {
     "name": "stdout",
     "output_type": "stream",
     "text": [
      "['hello', 'you', 'hoho', 'a', 'cat']\n",
      "['hello', 'you', 'hehe', 'a', 'cat']\n"
     ]
    }
   ],
   "source": [
    "## 解决办法是用  列表[:]\n",
    "li4 = li[:]               #这也是浅拷贝\n",
    "li[2] = 'hoho'\n",
    "print(li)\n",
    "print(li4)"
   ]
  },
  {
   "cell_type": "code",
   "execution_count": 5,
   "metadata": {},
   "outputs": [
    {
     "name": "stdout",
     "output_type": "stream",
     "text": [
      "[123, 2, ['hello', 'you', 'hehe', 'a', 'cat', 'hahahhagah'], 333]\n",
      "[123, 2, ['hello', 'you', 'hehe', 'a', 'cat', 'hahahhagah'], 333]\n",
      "140233712772736\n",
      "140233712772736\n"
     ]
    }
   ],
   "source": [
    "## 啥叫浅拷贝\n",
    "li_s = [123, 2, ['hello', 'you', 'hehe', 'a', 'cat'], 333]\n",
    "li_s_copy = li_s.copy()\n",
    "li_s_copy[2].append(\"hahahhagah\")\n",
    "print(li_s)\n",
    "print(li_s_copy)\n",
    "print(id(li_s[2]))\n",
    "print(id(li_s_copy[2]))            # 列表里面的地址一样的"
   ]
  },
  {
   "cell_type": "code",
   "execution_count": 13,
   "metadata": {},
   "outputs": [
    {
     "name": "stdout",
     "output_type": "stream",
     "text": [
      "[123, 2, ['hello', 'you', 'hehe', 'a', 'cat'], 'nani']\n",
      "[123, 2, ['hello', 'you', 'hehe', 'a', 'cat', 'hahahhagah'], 'nani']\n",
      "140233735784512\n",
      "140233732349376\n",
      "4513658880\n",
      "4513658880\n",
      "140233736304816\n",
      "140233736304816\n"
     ]
    }
   ],
   "source": [
    "## 看看深拷贝\n",
    "import copy\n",
    "\n",
    "\n",
    "li_s = [123, 2, ['hello', 'you', 'hehe', 'a', 'cat'],  'nani']\n",
    "li_s_copy = copy.deepcopy(li_s)\n",
    "li_s_copy[2].append(\"hahahhagah\")\n",
    "print(li_s)\n",
    "print(li_s_copy)\n",
    "print(id(li_s[2]))\n",
    "print(id(li_s_copy[2]))            # 都不一样了，完全不相关\n",
    "print(id(li_s[0]))\n",
    "print(id(li_s_copy[0]))            # 常量的这个地址都一样，说明内存中值为2的都在同一地址\n",
    "print(id(li_s[3]))\n",
    "print(id(li_s_copy[3]))            # 常量的这个地址都一样，说明内存中值为'nani'的都在同一地址"
   ]
  },
  {
   "cell_type": "code",
   "execution_count": 9,
   "metadata": {},
   "outputs": [
    {
     "name": "stdout",
     "output_type": "stream",
     "text": [
      "请输入带有符号的温度值: 30f\n",
      "转换后的温度是-1.11C\n"
     ]
    }
   ],
   "source": [
    "#TempConvert.py                      \n",
    "TempStr = input(\"请输入带有符号的温度值: \")                   #[0:-1]开始到末尾，不包括末尾, 还有这个eval\n",
    "if TempStr[-1] in ['F', 'f']:\n",
    "    C = (eval(TempStr[0:-1]) - 32)/1.8                     #   4\n",
    "    print(\"转换后的温度是{:.2f}C\".format(C)) \n",
    "elif TempStr[-1] in ['C', 'c']:\n",
    "    F = 1.8*eval(TempStr[0:-1]) + 32\n",
    "    print(\"转换后的温度是{:.2f}F\".format(F))\n",
    "else:\n",
    "    print(\"输入格式错误\")"
   ]
  },
  {
   "cell_type": "markdown",
   "metadata": {},
   "source": [
    "eval() 函数用来执行一个字符串表达式，并返回表达式的值。"
   ]
  },
  {
   "attachments": {
    "sss.png": {
     "image/png": "[encoded data removed]"
    }
   },
   "cell_type": "markdown",
   "metadata": {},
   "source": [
    "![sss.png](attachment:sss.png)"
   ]
  },
  {
   "cell_type": "code",
   "execution_count": 16,
   "metadata": {},
   "outputs": [
    {
     "name": "stdout",
     "output_type": "stream",
     "text": [
      "-- d -- ['d', 'd', 'c', 'c', 'd', 'd', 'e']\n",
      "-- d -- ['d', 'c', 'c', 'd', 'd', 'e']\n",
      "-- d -- ['c', 'c', 'd', 'd', 'e']\n",
      "finally\n",
      "['c', 'c', 'd', 'd', 'e']\n"
     ]
    }
   ],
   "source": [
    "li = ['d','d','d','c','c','d','d','e']\n",
    "\n",
    "for i in li:                               # 5 遍历的和删除的不是同一个元素\n",
    "    if i == 'd':\n",
    "        li.remove(i)      # remove删除第一次出现的。删完之后，列表结构变了：\n",
    "                          # 原来下标为1的变为下标为0，而for循环仍按照递增的序号进行：上一轮是0，这一轮是1\n",
    "        print(\"--\",i,\"--\",li)\n",
    "print('finally')\n",
    "print(li)"
   ]
  },
  {
   "cell_type": "code",
   "execution_count": 21,
   "metadata": {},
   "outputs": [
    {
     "data": {
      "text/plain": [
       "[[0, 0, 0, 0, 0, 0, 0, 0, 0, 0],\n",
       " [0, 0, 0, 0, 0, 0, 0, 0, 0, 0],\n",
       " [0, 0, 0, 0, 0, 0, 0, 0, 0, 0],\n",
       " [0, 0, 0, 0, 0, 0, 0, 0, 0, 0],\n",
       " [0, 0, 0, 0, 0, 0, 0, 0, 0, 0]]"
      ]
     },
     "execution_count": 21,
     "metadata": {},
     "output_type": "execute_result"
    }
   ],
   "source": [
    "li = [[0]*10]*5                            # 6 每个子列表地址相同，多维列表千万不能这样创建！！ \n",
    "li"
   ]
  },
  {
   "cell_type": "code",
   "execution_count": 22,
   "metadata": {},
   "outputs": [
    {
     "data": {
      "text/plain": [
       "[[0, 0, 0, 1, 0, 0, 0, 0, 0, 0],\n",
       " [0, 0, 0, 1, 0, 0, 0, 0, 0, 0],\n",
       " [0, 0, 0, 1, 0, 0, 0, 0, 0, 0],\n",
       " [0, 0, 0, 1, 0, 0, 0, 0, 0, 0],\n",
       " [0, 0, 0, 1, 0, 0, 0, 0, 0, 0]]"
      ]
     },
     "execution_count": 22,
     "metadata": {},
     "output_type": "execute_result"
    }
   ],
   "source": [
    "li[0][3] = 1\n",
    "li"
   ]
  },
  {
   "cell_type": "code",
   "execution_count": 23,
   "metadata": {},
   "outputs": [
    {
     "name": "stdout",
     "output_type": "stream",
     "text": [
      "140233712410112\n",
      "140233712410112\n",
      "140233712410112\n",
      "140233712410112\n"
     ]
    }
   ],
   "source": [
    "print(id(li[0]))\n",
    "print(id(li[1]))\n",
    "print(id(li[2]))\n",
    "print(id(li[3]))"
   ]
  },
  {
   "cell_type": "code",
   "execution_count": 24,
   "metadata": {},
   "outputs": [
    {
     "data": {
      "text/plain": [
       "[[0, 0, 0, 0, 0, 0, 0, 0, 0, 0],\n",
       " [0, 0, 0, 0, 0, 0, 0, 0, 0, 0],\n",
       " [0, 0, 0, 0, 0, 0, 0, 0, 0, 0],\n",
       " [0, 0, 0, 0, 0, 0, 0, 0, 0, 0],\n",
       " [0, 0, 0, 0, 0, 0, 0, 0, 0, 0]]"
      ]
     },
     "execution_count": 24,
     "metadata": {},
     "output_type": "execute_result"
    }
   ],
   "source": [
    "li2 = [[0]*10 for i in range(5)]            # 列表生成式是可以的              \n",
    "li2"
   ]
  },
  {
   "cell_type": "code",
   "execution_count": 25,
   "metadata": {},
   "outputs": [
    {
     "data": {
      "text/plain": [
       "[[0, 0, 0, 1, 0, 0, 0, 0, 0, 0],\n",
       " [0, 0, 0, 0, 0, 0, 0, 0, 0, 0],\n",
       " [0, 0, 0, 0, 0, 0, 0, 0, 0, 0],\n",
       " [0, 0, 0, 0, 0, 0, 0, 0, 0, 0],\n",
       " [0, 0, 0, 0, 0, 0, 0, 0, 0, 0]]"
      ]
     },
     "execution_count": 25,
     "metadata": {},
     "output_type": "execute_result"
    }
   ],
   "source": [
    "li2[0][3] = 1\n",
    "li2"
   ]
  },
  {
   "cell_type": "code",
   "execution_count": 1,
   "metadata": {
    "scrolled": false
   },
   "outputs": [
    {
     "data": {
      "text/plain": [
       "7"
      ]
     },
     "execution_count": 1,
     "metadata": {},
     "output_type": "execute_result"
    }
   ],
   "source": [
    "def a(num1):                                #  闭包\n",
    "    def b(num2):\n",
    "        return num1+num2\n",
    "    return b\n",
    "a(3)(4)"
   ]
  },
  {
   "cell_type": "code",
   "execution_count": 4,
   "metadata": {},
   "outputs": [
    {
     "name": "stdout",
     "output_type": "stream",
     "text": [
      "4335130976\n",
      "4335130976\n",
      "4335130944\n",
      "5\n",
      "6\n"
     ]
    }
   ],
   "source": [
    "def print_something(a):\n",
    "    print(id(a))       #4335130976    传的是引用\n",
    "    a = 5              #此时指向了另一个对象\n",
    "    print(id(a))       #4335130944    因此id变了\n",
    "    print(a)\n",
    "\n",
    "m = 6\n",
    "print(id(m))           #4335130976\n",
    "print_something(m)\n",
    "print(m)"
   ]
  },
  {
   "cell_type": "code",
   "execution_count": 6,
   "metadata": {},
   "outputs": [
    {
     "name": "stdout",
     "output_type": "stream",
     "text": [
      "5\n",
      "9\n"
     ]
    }
   ],
   "source": [
    "def change_some(ob):\n",
    "    ob.a = 9\n",
    "    \n",
    "class M():\n",
    "    a = 5\n",
    "\n",
    "v = M()\n",
    "print(v.a)\n",
    "change_some(v)        #传的是引用\n",
    "print(v.a)"
   ]
  },
  {
   "cell_type": "code",
   "execution_count": 7,
   "metadata": {},
   "outputs": [
    {
     "data": {
      "text/plain": [
       "'/Users/kate/Desktop/python_syntax'"
      ]
     },
     "execution_count": 7,
     "metadata": {},
     "output_type": "execute_result"
    }
   ],
   "source": [
    "import os                            # match 与 search\n",
    "path = os.getcwd()\n",
    "path"
   ]
  },
  {
   "cell_type": "code",
   "execution_count": 12,
   "metadata": {},
   "outputs": [
    {
     "name": "stdout",
     "output_type": "stream",
     "text": [
      "<re.Match object; span=(0, 5), match='hello'>\n"
     ]
    }
   ],
   "source": [
    "import re\n",
    "print(re.match('hello','helloworld')) # 开头匹配到"
   ]
  },
  {
   "cell_type": "code",
   "execution_count": 13,
   "metadata": {},
   "outputs": [
    {
     "name": "stdout",
     "output_type": "stream",
     "text": [
      "None\n"
     ]
    }
   ],
   "source": [
    "print(re.match('hello','nnnhelloworld')) # 开头没匹配到"
   ]
  },
  {
   "cell_type": "code",
   "execution_count": 14,
   "metadata": {},
   "outputs": [
    {
     "name": "stdout",
     "output_type": "stream",
     "text": [
      "<re.Match object; span=(0, 5), match='hello'>\n"
     ]
    }
   ],
   "source": [
    "print(re.search('hello','helloworld')) # "
   ]
  },
  {
   "cell_type": "code",
   "execution_count": 15,
   "metadata": {},
   "outputs": [
    {
     "name": "stdout",
     "output_type": "stream",
     "text": [
      "<re.Match object; span=(3, 8), match='hello'>\n"
     ]
    }
   ],
   "source": [
    "print(re.search('hello','nnnhelloworld')) # 不从开头也可以"
   ]
  },
  {
   "cell_type": "code",
   "execution_count": 16,
   "metadata": {},
   "outputs": [
    {
     "name": "stdout",
     "output_type": "stream",
     "text": [
      "140406901679408\n",
      "140406901678960\n",
      "False\n"
     ]
    }
   ],
   "source": [
    "a = 'hello world'\n",
    "b = 'hello world'\n",
    "print(id(a))\n",
    "print(id(b))\n",
    "print(a is b)"
   ]
  },
  {
   "cell_type": "code",
   "execution_count": 19,
   "metadata": {},
   "outputs": [
    {
     "name": "stdout",
     "output_type": "stream",
     "text": [
      "{\"aaa\": [1, 2, 3, 4], \"bbb\": [6, 7, 9]}\n",
      "<class 'str'>\n"
     ]
    }
   ],
   "source": [
    "import json\n",
    "di = {'aaa':(1,2,3,4), 'bbb':(6,7,9)}\n",
    "the_str = json.dumps(di)\n",
    "print(the_str)\n",
    "print(type(the_str))"
   ]
  },
  {
   "cell_type": "code",
   "execution_count": 3,
   "metadata": {},
   "outputs": [
    {
     "data": {
      "text/plain": [
       "type"
      ]
     },
     "execution_count": 3,
     "metadata": {},
     "output_type": "execute_result"
    }
   ],
   "source": [
    "type(type)"
   ]
  },
  {
   "cell_type": "code",
   "execution_count": 6,
   "metadata": {},
   "outputs": [
    {
     "data": {
      "text/plain": [
       "['/Users/kate/Desktop/python_syntax',\n",
       " '/Users/kate/opt/anaconda3/envs/practice/lib/python38.zip',\n",
       " '/Users/kate/opt/anaconda3/envs/practice/lib/python3.8',\n",
       " '/Users/kate/opt/anaconda3/envs/practice/lib/python3.8/lib-dynload',\n",
       " '',\n",
       " '/Users/kate/opt/anaconda3/envs/practice/lib/python3.8/site-packages',\n",
       " '/Users/kate/opt/anaconda3/envs/practice/lib/python3.8/site-packages/IPython/extensions',\n",
       " '/Users/kate/.ipython']"
      ]
     },
     "execution_count": 6,
     "metadata": {},
     "output_type": "execute_result"
    }
   ],
   "source": [
    "import sys\n",
    "sys.path"
   ]
  },
  {
   "cell_type": "code",
   "execution_count": 8,
   "metadata": {},
   "outputs": [
    {
     "data": {
      "text/plain": [
       "[4, 5, 6]"
      ]
     },
     "execution_count": 8,
     "metadata": {},
     "output_type": "execute_result"
    }
   ],
   "source": [
    "## map 的用法   --------  返回迭代器\n",
    "# map(function_to_apply, list_of_inputs)\n",
    "list(map(lambda x: x+3, [1,2,3]))"
   ]
  },
  {
   "cell_type": "code",
   "execution_count": 13,
   "metadata": {},
   "outputs": [
    {
     "data": {
      "text/plain": [
       "4"
      ]
     },
     "execution_count": 13,
     "metadata": {},
     "output_type": "execute_result"
    }
   ],
   "source": [
    "m = map(lambda x: x+3, [1,2,3])\n",
    "next(m)"
   ]
  },
  {
   "cell_type": "code",
   "execution_count": 10,
   "metadata": {},
   "outputs": [
    {
     "data": {
      "text/plain": [
       "[2, 3]"
      ]
     },
     "execution_count": 10,
     "metadata": {},
     "output_type": "execute_result"
    }
   ],
   "source": [
    "## filter 的用法  --------  返回迭代器\n",
    "list(filter(lambda x: x > 1, [1,2,3]))"
   ]
  },
  {
   "cell_type": "code",
   "execution_count": 15,
   "metadata": {},
   "outputs": [
    {
     "data": {
      "text/plain": [
       "2"
      ]
     },
     "execution_count": 15,
     "metadata": {},
     "output_type": "execute_result"
    }
   ],
   "source": [
    "a = filter(lambda x: x > 1, [1,2,3])\n",
    "next(a)"
   ]
  },
  {
   "cell_type": "code",
   "execution_count": 19,
   "metadata": {},
   "outputs": [
    {
     "data": {
      "text/plain": [
       "10"
      ]
     },
     "execution_count": 19,
     "metadata": {},
     "output_type": "execute_result"
    }
   ],
   "source": [
    "## reduce 的用法 ------ 对一个列表进行一些计算并返回结果\n",
    "from functools import reduce\n",
    "\n",
    "reduce(lambda x,y: x+y, [1,2,3,4])"
   ]
  },
  {
   "cell_type": "code",
   "execution_count": 23,
   "metadata": {},
   "outputs": [
    {
     "name": "stdout",
     "output_type": "stream",
     "text": [
      "{'red'}\n",
      "{'brown'}\n"
     ]
    }
   ],
   "source": [
    "## 集合的交并补\n",
    "\n",
    "\n",
    "valid = set(['yellow', 'red', 'blue', 'green', 'black'])\n",
    "input_set = set(['red', 'brown'])\n",
    "print(input_set.intersection(valid))\n",
    "print(input_set.difference(valid))"
   ]
  },
  {
   "cell_type": "code",
   "execution_count": 25,
   "metadata": {},
   "outputs": [
    {
     "name": "stdout",
     "output_type": "stream",
     "text": [
      "8\n"
     ]
    }
   ],
   "source": [
    "# global：外面没有定义，就会创建一个\n",
    "\n",
    "def add(value1,value2):\n",
    "    global result\n",
    "    result = value1 + value2\n",
    "add(3,5)\n",
    "print(result)\n"
   ]
  },
  {
   "cell_type": "code",
   "execution_count": 26,
   "metadata": {},
   "outputs": [
    {
     "name": "stdout",
     "output_type": "stream",
     "text": [
      "8\n"
     ]
    }
   ],
   "source": [
    "# global：外面如果定义了，就会修改\n",
    "\n",
    "result = 4\n",
    "def add(value1,value2):\n",
    "    global result\n",
    "    result = value1 + value2\n",
    "add(3,5)\n",
    "print(result)"
   ]
  },
  {
   "cell_type": "code",
   "execution_count": 30,
   "metadata": {},
   "outputs": [
    {
     "name": "stdout",
     "output_type": "stream",
     "text": [
      "m\n",
      "1\n",
      "1\n"
     ]
    }
   ],
   "source": []
  },
  {
   "cell_type": "code",
   "execution_count": null,
   "metadata": {},
   "outputs": [],
   "source": []
  }
 ],
 "metadata": {
  "kernelspec": {
   "display_name": "Python 3",
   "language": "python",
   "name": "python3"
  },
  "language_info": {
   "codemirror_mode": {
    "name": "ipython",
    "version": 3
   },
   "file_extension": ".py",
   "mimetype": "text/x-python",
   "name": "python",
   "nbconvert_exporter": "python",
   "pygments_lexer": "ipython3",
   "version": "3.8.5"
  }
 },
 "nbformat": 4,
 "nbformat_minor": 4
}
