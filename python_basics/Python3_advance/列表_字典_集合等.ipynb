{
 "cells": [
  {
   "cell_type": "markdown",
   "metadata": {},
   "source": [
    "# 主要内容\n",
    "### 1.dict和set"
   ]
  },
  {
   "cell_type": "markdown",
   "metadata": {},
   "source": [
    "## 1.dict和set\n"
   ]
  },
  {
   "cell_type": "code",
   "execution_count": 1,
   "metadata": {},
   "outputs": [
    {
     "name": "stdout",
     "output_type": "stream",
     "text": [
      "True\n"
     ]
    }
   ],
   "source": [
    "from collections.abc import Mapping, MutableMapping\n",
    "\n",
    "a = {}\n",
    "print(isinstance(a, MutableMapping)) #dict是MutableMapping的类型"
   ]
  },
  {
   "cell_type": "markdown",
   "metadata": {},
   "source": [
    "### dict常用方法\n",
    "\n",
    "#### （1）浅拷贝"
   ]
  },
  {
   "cell_type": "code",
   "execution_count": 5,
   "metadata": {},
   "outputs": [
    {
     "name": "stdout",
     "output_type": "stream",
     "text": [
      "{'a': {'aaa': 5}, 'b': {'bbb': 'bb'}}\n"
     ]
    }
   ],
   "source": [
    "dic1 = {\"a\":{\"aaa\":\"aa\"},\n",
    "        \"b\":{\"bbb\":\"bb\"}}\n",
    "dic2 = dic1.copy()                 # copy()是个浅拷贝\n",
    "dic2[\"a\"][\"aaa\"] = 5              \n",
    "print(dic1)                        # 改dic2字典里的字典，dic1也跟着改"
   ]
  },
  {
   "cell_type": "code",
   "execution_count": 6,
   "metadata": {},
   "outputs": [
    {
     "name": "stdout",
     "output_type": "stream",
     "text": [
      "{'a': 5, 'b': {'bbb': 'bb'}}\n",
      "{'a': {'aaa': 'aa'}, 'b': {'bbb': 'bb'}}\n"
     ]
    }
   ],
   "source": [
    "dic1 = {\"a\":{\"aaa\":\"aa\"},\n",
    "        \"b\":{\"bbb\":\"bb\"}}\n",
    "dic2 = dic1.copy()\n",
    "dic2[\"a\"] = 5                     # 用copy() 仅改浅层的话\n",
    "print(dic2)                       # 二者就不同了\n",
    "print(dic1)"
   ]
  },
  {
   "cell_type": "markdown",
   "metadata": {},
   "source": [
    "#### （2）深拷贝"
   ]
  },
  {
   "cell_type": "code",
   "execution_count": 8,
   "metadata": {},
   "outputs": [
    {
     "name": "stdout",
     "output_type": "stream",
     "text": [
      "{'a': {'aaa': 'aa'}, 'b': {'bbb': 'bb'}}\n",
      "{'a': {'aaa': 5}, 'b': {'bbb': 'bb'}}\n"
     ]
    }
   ],
   "source": [
    "import copy\n",
    "\n",
    "dic1 = {\"a\":{\"aaa\":\"aa\"},\n",
    "        \"b\":{\"bbb\":\"bb\"}}\n",
    "dic2 = copy.deepcopy(dic1)                 # copy.deepcopy()是个深拷贝\n",
    "dic2[\"a\"][\"aaa\"] = 5              \n",
    "print(dic1)                                # 改dic2字典里的字典，dic1不会跟着改\n",
    "print(dic2)"
   ]
  },
  {
   "cell_type": "code",
   "execution_count": 10,
   "metadata": {},
   "outputs": [
    {
     "name": "stdout",
     "output_type": "stream",
     "text": [
      "{1: {'b', 'c', 'a'}, 2: {'b', 'c', 'a'}, 3: {'b', 'c', 'a'}}\n"
     ]
    }
   ],
   "source": [
    "li = [1,2,3]\n",
    "s = {\"a\",\"b\",\"c\"}\n",
    "new_dic = dict.fromkeys(li,s)\n",
    "          # Create a new dictionary with keys from iterable and values set to value.\n",
    "print(new_dic)"
   ]
  },
  {
   "cell_type": "markdown",
   "metadata": {},
   "source": [
    "#### (3)当key不存在时"
   ]
  },
  {
   "cell_type": "code",
   "execution_count": 15,
   "metadata": {},
   "outputs": [
    {
     "name": "stdout",
     "output_type": "stream",
     "text": [
      "xxx\n"
     ]
    }
   ],
   "source": [
    "dic = {\"a\":\"aa\", \"b\":\"bb\", \"c\":\"cc\"}\n",
    "#print(dic[\"d\"])              #这种会直接报错，没有异常处理\n",
    "print(dic.get(\"d\", \"xxx\"))    #用这个，如果没有就返回get()第二个参数"
   ]
  },
  {
   "cell_type": "code",
   "execution_count": 22,
   "metadata": {},
   "outputs": [
    {
     "name": "stdout",
     "output_type": "stream",
     "text": [
      "{'a': 'aa', 'b': 'bb', 'c': 'cc', 'd': 'xxxx'}\n",
      "xxxx\n"
     ]
    }
   ],
   "source": [
    "dic = {\"a\":\"aa\", \"b\":\"bb\", \"c\":\"cc\"}\n",
    "dic.setdefault(\"d\",\"xxxx\")    #并不理解这个操作...\n",
    "# Insert key with a value of default if key is not in the dictionary.\n",
    "# Return the value for key if key is in the dictionary, else default.\n",
    "print(dic)\n",
    "print(dic[\"d\"]) "
   ]
  },
  {
   "cell_type": "markdown",
   "metadata": {},
   "source": [
    "#### (4)更新操作"
   ]
  },
  {
   "cell_type": "code",
   "execution_count": 24,
   "metadata": {},
   "outputs": [
    {
     "name": "stdout",
     "output_type": "stream",
     "text": [
      "{'a': 'aa', 'b': 'bb', 'c': 'cc', 'e': 'ee', 'f': 'ff'}\n"
     ]
    }
   ],
   "source": [
    "dic = {\"a\":\"aa\", \"b\":\"bb\", \"c\":\"cc\"}\n",
    "dic.update({\"e\":\"ee\", \"f\":\"ff\"})\n",
    "print(dic)"
   ]
  },
  {
   "cell_type": "markdown",
   "metadata": {},
   "source": [
    "###  继承操作"
   ]
  },
  {
   "cell_type": "code",
   "execution_count": 8,
   "metadata": {},
   "outputs": [
    {
     "name": "stdout",
     "output_type": "stream",
     "text": [
      "{'a': 1}\n",
      "{'a': 1, 'b': 4}\n"
     ]
    }
   ],
   "source": [
    "# 不要继承\n",
    "class MyDict(dict):\n",
    "    def __setitem__(self, key, value):\n",
    "        super().__setitem__(key, value * 2)    # super加括号\n",
    "\n",
    "d = MyDict(a = 1)                              # a->1 没有乘2   （初始化的这个不会跟着改）\n",
    "print(d)                                       \n",
    "d[\"b\"] = 2                                     # b->2 有乘2      (这种的才会改)\n",
    "print(d)                                       "
   ]
  },
  {
   "cell_type": "code",
   "execution_count": 9,
   "metadata": {
    "scrolled": false
   },
   "outputs": [
    {
     "name": "stdout",
     "output_type": "stream",
     "text": [
      "{'a': 2}\n",
      "{'a': 2, 'b': 4}\n"
     ]
    }
   ],
   "source": [
    "from collections import UserDict\n",
    "class MyDict(UserDict):\n",
    "    def __setitem__(self, key, value):\n",
    "        super().__setitem__(key, value * 2)    \n",
    "\n",
    "d = MyDict(a = 1)                              # a->1 有乘2   （初始化的这个也会跟着改）\n",
    "print(d)                                       \n",
    "d[\"b\"] = 2                                     # b->2 有乘2      \n",
    "print(d)       "
   ]
  },
  {
   "cell_type": "code",
   "execution_count": null,
   "metadata": {},
   "outputs": [],
   "source": []
  }
 ],
 "metadata": {
  "kernelspec": {
   "display_name": "Python 3",
   "language": "python",
   "name": "python3"
  },
  "language_info": {
   "codemirror_mode": {
    "name": "ipython",
    "version": 3
   },
   "file_extension": ".py",
   "mimetype": "text/x-python",
   "name": "python",
   "nbconvert_exporter": "python",
   "pygments_lexer": "ipython3",
   "version": "3.8.5"
  }
 },
 "nbformat": 4,
 "nbformat_minor": 4
}
