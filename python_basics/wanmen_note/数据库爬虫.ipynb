{
 "cells": [
  {
   "cell_type": "markdown",
   "metadata": {},
   "source": [
    "# 内容提要\n",
    "### 1.数据库\n",
    "### 2.爬虫\n",
    "----"
   ]
  },
  {
   "cell_type": "markdown",
   "metadata": {},
   "source": [
    "## 1.数据库\n",
    "#### 1) mysql基本操作\n",
    "这个基本上就全了\n",
    "https://zhuanlan.zhihu.com/p/97132780\n",
    "#### 2) 数据库管理工具\n",
    "http://www.sequelpro.com\n",
    "#### 3) 关于json"
   ]
  },
  {
   "cell_type": "code",
   "execution_count": 1,
   "metadata": {},
   "outputs": [
    {
     "name": "stdout",
     "output_type": "stream",
     "text": [
      "<class 'str'> <class 'str'>\n",
      "{\"a\":1,\"b\":2,\"c\":3}\n"
     ]
    }
   ],
   "source": [
    "import json\n",
    "\n",
    "data1 = \"{'a':1,'b':2,'c':3}\" #这个没报错，但是不对\n",
    "data2 = '{\"a\":1,\"b\":2,\"c\":3}' #JSON 字符串可以是列表或者字典或者混搭\n",
    "\n",
    "print(type(data1),type(data2))  #JSON 字符串\n",
    "print(data2)"
   ]
  },
  {
   "cell_type": "code",
   "execution_count": 2,
   "metadata": {},
   "outputs": [
    {
     "name": "stdout",
     "output_type": "stream",
     "text": [
      "<class 'dict'>\n",
      "{'a': 1, 'b': 2, 'c': 3}\n"
     ]
    }
   ],
   "source": [
    "#j_data = json.loads(data1) #报错, JSON字符串中的内容应该用双引号\n",
    "j_data = json.loads(data2)  #将已编码的 JSON 字符串解码为 Python 对象\n",
    "print(type(j_data))\n",
    "print(j_data)"
   ]
  },
  {
   "cell_type": "code",
   "execution_count": 3,
   "metadata": {},
   "outputs": [
    {
     "name": "stdout",
     "output_type": "stream",
     "text": [
      "<class 'str'>\n",
      "{\"a\": 1, \"b\": 2, \"c\": 3}\n"
     ]
    }
   ],
   "source": [
    "py_obj = json.dumps(j_data) #将 Python 对象编码成 JSON 字符串\n",
    "print(type(py_obj))  \n",
    "print(py_obj)"
   ]
  },
  {
   "cell_type": "code",
   "execution_count": 4,
   "metadata": {
    "scrolled": false
   },
   "outputs": [
    {
     "name": "stdout",
     "output_type": "stream",
     "text": [
      "<class 'dict'>\n",
      "{'h': 'hello', 'w': 'world'}\n",
      "<class 'dict'>\n",
      "{'a': 'array', 'd': 'dict', 'l': 'list'}\n",
      "<class 'dict'>\n",
      "{'f': 'from', 't': 'to'}\n"
     ]
    }
   ],
   "source": [
    "#读取json文件并解析\n",
    "with open('tmp.json','r') as f:  \n",
    "    for line in f.readlines():           #每一行是一个json字符串，就可以这么搞\n",
    "        py_obj_tmp = json.loads(line)\n",
    "        print(type(py_obj_tmp))\n",
    "        print(py_obj_tmp)"
   ]
  },
  {
   "cell_type": "code",
   "execution_count": 5,
   "metadata": {},
   "outputs": [
    {
     "name": "stdout",
     "output_type": "stream",
     "text": [
      "<class 'list'>\n",
      "[{'h': 'hello', 'w': 'world'}, {'a': 'array', 'd': 'dict', 'l': 'list'}, {'f': 'from', 't': 'to'}]\n",
      "<class 'dict'>\n",
      "{'h': 'hello', 'w': 'world'}\n",
      "<class 'dict'>\n",
      "{'a': 'array', 'd': 'dict', 'l': 'list'}\n",
      "<class 'dict'>\n",
      "{'f': 'from', 't': 'to'}\n"
     ]
    }
   ],
   "source": [
    "#如果json文件整体是一个大json字符串\n",
    "with open('tmp1.json','r') as f:  \n",
    "    j_data = json.load(f)           #整体是一个大json字符串，这样能直接得到解码的python对象\n",
    "    print(type(j_data))\n",
    "    print(j_data)\n",
    "    for i in range(3):\n",
    "        print(type(j_data[i]))\n",
    "        print(j_data[i])       "
   ]
  },
  {
   "cell_type": "markdown",
   "metadata": {},
   "source": [
    "#### 4)用python操作数据库"
   ]
  },
  {
   "cell_type": "markdown",
   "metadata": {},
   "source": [
    "安装MySQL模块  \n",
    "pip install pymysql"
   ]
  },
  {
   "cell_type": "code",
   "execution_count": 17,
   "metadata": {},
   "outputs": [
    {
     "name": "stdout",
     "output_type": "stream",
     "text": [
      "--------------新建表--------------\n",
      "--------------查询数据--------------\n",
      "id\tname\tnickname\tbirthday\n"
     ]
    }
   ],
   "source": [
    "import pymysql\n",
    "import datetime\n",
    "\n",
    "host = '127.0.0.1'\n",
    "username = 'root'\n",
    "password = 'hello123'\n",
    "db_name = 'MyData'\n",
    "\n",
    "create_table_sql = \"\"\"\\\n",
    "CREATE TABLE hhhh(\n",
    "    id INT AUTO_INCREMENT PRIMARY KEY,\n",
    "    username VARCHAR(255) UNIQUE ,\n",
    "    nickname VARCHAR(255) NOT NULL ,\n",
    "    birthday DATE\n",
    ")\n",
    "\"\"\"\n",
    "\n",
    "\n",
    "query_table_sql = \"\"\"\\\n",
    "SELECT id,username,nickname,birthday\n",
    "FROM hhhh \n",
    "\"\"\"\n",
    "\n",
    "connection = pymysql.connect(host=host,\n",
    "                             user=username,\n",
    "                             password=password,\n",
    "                             charset='utf8mb4',\n",
    "                             db=db_name)\n",
    "\n",
    "try:\n",
    "    with connection.cursor() as cursor:\n",
    "        print('--------------新建表--------------')\n",
    "        cursor.execute(create_table_sql)\n",
    "        connection.commit()\n",
    "    \n",
    "        print('--------------查询数据--------------')\n",
    "        cursor.execute(query_table_sql)\n",
    "        results = cursor.fetchall()\n",
    "        print(f'id\\tname\\tnickname\\tbirthday')\n",
    "        for row in results:\n",
    "            print(row[0], row[1], row[2], row[3], sep='\\t')\n",
    "finally:\n",
    "    connection.close()"
   ]
  },
  {
   "cell_type": "markdown",
   "metadata": {},
   "source": [
    "## 2.爬虫"
   ]
  },
  {
   "cell_type": "markdown",
   "metadata": {},
   "source": [
    "环境配置  \n",
    "pip3 install requests  \n",
    "pip3 install bs4"
   ]
  },
  {
   "cell_type": "code",
   "execution_count": 21,
   "metadata": {},
   "outputs": [
    {
     "data": {
      "text/plain": [
       "<Response [200]>"
      ]
     },
     "execution_count": 21,
     "metadata": {},
     "output_type": "execute_result"
    }
   ],
   "source": [
    "import requests\n",
    "from bs4 import BeautifulSoup\n",
    "\n",
    "url = \"https://bj.lianjia.com/zufang\"\n",
    "response = requests.get(url )\n",
    "response     #返回200:成功获取到数据"
   ]
  },
  {
   "cell_type": "code",
   "execution_count": 23,
   "metadata": {
    "scrolled": false
   },
   "outputs": [],
   "source": [
    "content = response.text  #页面的html代码都存储在这里"
   ]
  },
  {
   "cell_type": "code",
   "execution_count": 27,
   "metadata": {},
   "outputs": [
    {
     "data": {
      "text/plain": [
       "<a class=\"content__list--item--aside\" href=\"/zufang/BJ2823815656418582528.html\" target=\"_blank\" title=\"整租·鑫苑鑫都汇 3室1厅 南/北\">\n",
       "<img alt=\"整租·鑫苑鑫都汇 3室1厅 南/北_鑫苑鑫都汇租房\" class=\"lazyload\" data-src=\"https://image1.ljcdn.com/110000-inspection/pc1_3TaplqdCN.jpg!m_fill,w_250,h_182,l_flianjia_black,o_auto\" src=\"https://s1.ljcdn.com/matrix_pc/dist/pc/src/resource/default/250-182.png?_v=20210712113522e1a\"/>\n",
       "<!-- 是否展示vr图片 -->\n",
       "<i class=\"vr-logo\"></i>\n",
       "<!-- 广告标签 -->\n",
       "</a>"
      ]
     },
     "execution_count": 27,
     "metadata": {},
     "output_type": "execute_result"
    }
   ],
   "source": [
    "soup = BeautifulSoup(content)   #用这个来解析提取数据 （打印可以看出结构化的数据效果）\n",
    "#用开发者工具，把所有这样的链接找出来。find_all 第一个参数是html元素，比如a，div等\n",
    "links = soup.find_all('a', class_ = \"content__list--item--aside\" )   \n",
    "links[0] "
   ]
  },
  {
   "cell_type": "code",
   "execution_count": 29,
   "metadata": {},
   "outputs": [
    {
     "data": {
      "text/plain": [
       "'/zufang/BJ2823815656418582528.html'"
      ]
     },
     "execution_count": 29,
     "metadata": {},
     "output_type": "execute_result"
    }
   ],
   "source": [
    "# 获取链接\n",
    "# 如果是links[0]是div，div里面有a，即 <div><a href=\"xxxxxx.html\"> </a></div>这种\n",
    "# 下面应改为 links[0].a.get('href') \n",
    "links[0].get('href')   "
   ]
  },
  {
   "cell_type": "code",
   "execution_count": 30,
   "metadata": {},
   "outputs": [
    {
     "name": "stdout",
     "output_type": "stream",
     "text": [
      "['/zufang/BJ2823815656418582528.html', '/zufang/BJ2829029318921814016.html', '/zufang/BJ2827406974507810816.html', '/zufang/BJ2818954432765493248.html', '/zufang/BJ2826903441392279552.html', '/zufang/BJ2830420923919122432.html', '/zufang/BJ2829040580947361792.html', '/zufang/BJ2826857767502364672.html', '/zufang/BJ2829050856094580736.html', '/zufang/BJ2828744782288003072.html', '/zufang/BJ2829226215011778560.html', '/zufang/BJ2832706869653946368.html', '/zufang/BJ2824588925417562112.html', '/zufang/BJ2823787498520444928.html', '/zufang/BJ2552979105310318592.html', '/zufang/BJ2556463184357892096.html', '/zufang/BJ2554945787276558336.html', '/zufang/BJ2570324000173998080.html', '/zufang/BJ2565883174974660608.html', '/zufang/BJ2568644046843289600.html', '/zufang/BJ2578840813584777216.html', '/zufang/BJ2570246073528352768.html', '/zufang/BJ2578075242769686528.html', '/zufang/BJ2579742548553629696.html', '/zufang/BJ2574511637856272384.html', '/zufang/BJ2580234913915600896.html', '/zufang/BJ2576879537665081344.html', '/zufang/BJ2564981752607285248.html', '/zufang/BJ2577546350245978112.html', '/zufang/BJ2567218416511352832.html']\n"
     ]
    }
   ],
   "source": [
    "# 提取所有链接\n",
    "all_links = [li.get('href') for li in links]\n",
    "print(all_links)"
   ]
  },
  {
   "cell_type": "code",
   "execution_count": null,
   "metadata": {},
   "outputs": [],
   "source": []
  }
 ],
 "metadata": {
  "kernelspec": {
   "display_name": "Python 3",
   "language": "python",
   "name": "python3"
  },
  "language_info": {
   "codemirror_mode": {
    "name": "ipython",
    "version": 3
   },
   "file_extension": ".py",
   "mimetype": "text/x-python",
   "name": "python",
   "nbconvert_exporter": "python",
   "pygments_lexer": "ipython3",
   "version": "3.8.5"
  }
 },
 "nbformat": 4,
 "nbformat_minor": 4
}
